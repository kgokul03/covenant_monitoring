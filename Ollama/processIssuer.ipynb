{
 "cells": [
  {
   "cell_type": "code",
   "execution_count": 1,
   "id": "42c8a068-bba5-46fe-a5bf-ae2cebff891d",
   "metadata": {},
   "outputs": [],
   "source": [
    "import PyPDF2\n",
    "import re\n",
    "import json\n",
    "from openai import OpenAI\n",
    "from pydantic import BaseModel, Field\n",
    "from typing import Optional\n",
    "from datetime import datetime"
   ]
  },
  {
   "cell_type": "code",
   "execution_count": 2,
   "id": "d7048f1d-7d6b-4e56-bf52-f225b578e2cd",
   "metadata": {},
   "outputs": [],
   "source": [
    "client = OpenAI(\n",
    "    base_url='http://localhost:11434/v1',\n",
    "    api_key='llama3.2:3b'\n",
    ")\n",
    "\n",
    "class CreditAgreementDetails(BaseModel):\n",
    "    issuer: Optional[str] = None\n",
    "    administrative_agent: Optional[str] = None\n",
    "    underwriter: Optional[str] = None\n",
    "    agreement_date: Optional[str] = Field(None, description=\"Agreement date in YYYY-MM-DD format\")"
   ]
  },
  {
   "cell_type": "code",
   "execution_count": 3,
   "id": "f6bd8db0-2993-4123-9942-68035641e256",
   "metadata": {},
   "outputs": [],
   "source": [
    "def clean_text(text):\n",
    "    # Remove URLs and SEC archive references\n",
    "    text = re.sub(r'https?://\\S+|sec\\.gov/Archives/\\S+', '', text)\n",
    "    # Remove metadata like EX-10.1 and timestamps\n",
    "    text = re.sub(r'EX-\\d+\\.\\d+.*', '', text)\n",
    "    text = re.sub(r'\\d+/\\d+/\\d+, \\d+:\\d+ \\w+', '', text)\n",
    "    # Remove trailing page numbers (e.g., 1/274)\n",
    "    text = re.sub(r'\\b\\d+/\\d+\\b', '', text)\n",
    "    # Remove extra spaces and newlines\n",
    "    text = re.sub(r'\\s+', ' ', text).strip()\n",
    "    return text\n",
    "    \n",
    "def getDataFromPdf(pdf_path):\n",
    "    pdf_reader = PyPDF2.PdfReader(pdf_path)\n",
    "    text = pdf_reader.pages[0].extract_text() if pdf_reader.pages else None\n",
    "    return clean_text(text)\n",
    "\n",
    "first_page_content = getDataFromPdf(\"./Example_2.pdf\")"
   ]
  },
  {
   "cell_type": "code",
   "execution_count": 7,
   "id": "8f76124f-2fb1-4d4e-a6ce-935762425bab",
   "metadata": {},
   "outputs": [],
   "source": [
    "# # Define the structured prompt\n",
    "# prompt = f\"\"\"\n",
    "# Extract the following details from the given document and I strictly needs only with the below keys and return the value as empty string(\"\") if no information is provided for the particular key and respond in json format:\n",
    "\n",
    "# issuer: (Who is the issuer of the agreement?)\n",
    "# administrative_agent: (Who is the administrative agent?)\n",
    "# underwriter: (Who is the underwriter or bookrunner or lead arranger?)\n",
    "# agreement_date: (What is the agreement date? in the format of  YYYY-MM-DD)\n",
    "\n",
    "# Document:\n",
    "# {first_page_content}\n",
    "# \"\"\"\n",
    "\n",
    "prompt = f\"\"\"\n",
    "### System Instruction:  \n",
    "You are an AI model tasked with extracting specific financial details from documents. **Follow these instructions precisely:**  \n",
    "- Return the output in **strict JSON format** with the specified keys.  \n",
    "- If a key's information is missing, return an **empty string (\"\")** instead of omitting the key.  \n",
    "- Do **not** add extra text, explanations, or additional keys.  \n",
    "\n",
    "### **Extraction Task:**  \n",
    "Extract the following details from the provided document:  \n",
    "\n",
    "- **issuer**: The entity issuing the agreement.  \n",
    "- **administrative_agent**: The administrative agent managing the agreement.  \n",
    "- **underwriter**: The underwriter, bookrunner, or lead arranger.  \n",
    "- **agreement_date**: The agreement date in **YYYY-MM-DD** format.  \n",
    "\n",
    "### **Document Content:**  \n",
    "{first_page_content}\n",
    "\"\"\""
   ]
  },
  {
   "cell_type": "code",
   "execution_count": 8,
   "id": "f4b904b1-cd7b-4728-8457-823f502f25a7",
   "metadata": {},
   "outputs": [
    {
     "name": "stdout",
     "output_type": "stream",
     "text": [
      "\n",
      "### System Instruction:  \n",
      "You are an AI model tasked with extracting specific financial details from documents. **Follow these instructions precisely:**  \n",
      "- Return the output in **strict JSON format** with the specified keys.  \n",
      "- If a key's information is missing, return an **empty string (\"\")** instead of omitting the key.  \n",
      "- Do **not** add extra text, explanations, or additional keys.  \n",
      "\n",
      "### **Extraction Task:**  \n",
      "Extract the following details from the provided document:  \n",
      "\n",
      "- **issuer**: The entity issuing the agreement.  \n",
      "- **administrative_agent**: The administrative agent managing the agreement.  \n",
      "- **underwriter**: The underwriter, bookrunner, or lead arranger.  \n",
      "- **agreement_date**: The agreement date in **YYYY-MM-DD** format.  \n",
      "\n",
      "### **Document Content:**  \n",
      "Exhibit 10.1 EXECUTION VERSION CREDIT AGREEMENT dated as of July 26, 2023 among HARMONY BIOSCIENCES HOLDINGS, INC., as Borrower The Lenders Party Hereto JPMORGAN CHASE BANK, N.A. as Administrative Agent and JPMORGAN CHASE BANK, N.A., as Bookrunner and Lead Arranger\n",
      "\n"
     ]
    }
   ],
   "source": [
    "print(prompt)"
   ]
  },
  {
   "cell_type": "code",
   "execution_count": 9,
   "id": "c6b86f23-6ff3-47a8-997e-92ac797eb579",
   "metadata": {},
   "outputs": [
    {
     "name": "stdout",
     "output_type": "stream",
     "text": [
      "{\"issuer\": \"HARMONY BIOSCIENCES HOLDINGS, INC.\", \"administrative_agent\": \"JPMORGAN CHASE BANK, N.A.\", \"underwriter\": \"JPMORGAN CHASE BANK, N.A.\", \"agreement_date\": \"2023-07-26\"}\n"
     ]
    }
   ],
   "source": [
    "# Send the structured prompt to Ollama\n",
    "response = client.chat.completions.create(\n",
    "    model=\"llama3.2:3b\",  # Ensure this matches your model name\n",
    "    messages=[{\"role\": \"user\", \"content\": prompt}]\n",
    ")\n",
    "\n",
    "# Extract the text response from the model\n",
    "response_text = response.choices[0].message.content\n",
    "print(response_text)"
   ]
  },
  {
   "cell_type": "code",
   "execution_count": 10,
   "id": "3ee4be86-826b-40ba-ba0c-b877ca35d321",
   "metadata": {},
   "outputs": [
    {
     "data": {
      "text/plain": [
       "CreditAgreementDetails(issuer='HARMONY BIOSCIENCES HOLDINGS, INC.', administrative_agent='JPMORGAN CHASE BANK, N.A.', underwriter='JPMORGAN CHASE BANK, N.A.', agreement_date='2023-07-26')"
      ]
     },
     "execution_count": 10,
     "metadata": {},
     "output_type": "execute_result"
    }
   ],
   "source": [
    "def parse_json_response(json_response):\n",
    "    \"\"\"\n",
    "    Parses the JSON response and maps it to the CreditAgreementDetails model.\n",
    "    \"\"\"\n",
    "    data = json.loads(json_response)  # Convert JSON string to Python dictionary\n",
    "    date_obj = None\n",
    "    # Normalize keys to match the Pydantic model\n",
    "    mapped_details = {\n",
    "        \"issuer\": data.get(\"issuer\"),\n",
    "        \"administrative_agent\": data.get(\"administrative_agent\"),\n",
    "        \"underwriter\": data.get(\"underwriter\"),\n",
    "        \"agreement_date\": data.get(\"agreement_date\")\n",
    "    }\n",
    "    return CreditAgreementDetails(**mapped_details)\n",
    "\n",
    "parse_json_response(response_text)"
   ]
  }
 ],
 "metadata": {
  "kernelspec": {
   "display_name": "Python 3 (ipykernel)",
   "language": "python",
   "name": "python3"
  },
  "language_info": {
   "codemirror_mode": {
    "name": "ipython",
    "version": 3
   },
   "file_extension": ".py",
   "mimetype": "text/x-python",
   "name": "python",
   "nbconvert_exporter": "python",
   "pygments_lexer": "ipython3",
   "version": "3.11.5"
  }
 },
 "nbformat": 4,
 "nbformat_minor": 5
}
